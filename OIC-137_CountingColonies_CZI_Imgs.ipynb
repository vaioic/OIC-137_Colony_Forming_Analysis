{
 "cells": [
  {
   "cell_type": "code",
   "execution_count": 26,
   "id": "95f965da-e396-47f5-a4aa-c0d28f7bd9c6",
   "metadata": {},
   "outputs": [
    {
     "ename": "ModuleNotFoundError",
     "evalue": "No module named 'cv2'",
     "output_type": "error",
     "traceback": [
      "\u001b[1;31m---------------------------------------------------------------------------\u001b[0m",
      "\u001b[1;31mModuleNotFoundError\u001b[0m                       Traceback (most recent call last)",
      "Cell \u001b[1;32mIn[26], line 6\u001b[0m\n\u001b[0;32m      4\u001b[0m \u001b[38;5;28;01mimport\u001b[39;00m\u001b[38;5;250m \u001b[39m\u001b[38;5;21;01mos\u001b[39;00m\u001b[38;5;241m,\u001b[39m\u001b[38;5;250m \u001b[39m\u001b[38;5;21;01msys\u001b[39;00m\n\u001b[0;32m      5\u001b[0m \u001b[38;5;28;01mimport\u001b[39;00m\u001b[38;5;250m \u001b[39m\u001b[38;5;21;01mnapari\u001b[39;00m\n\u001b[1;32m----> 6\u001b[0m \u001b[38;5;28;01mimport\u001b[39;00m\u001b[38;5;250m \u001b[39m\u001b[38;5;21;01mcv2\u001b[39;00m\n",
      "\u001b[1;31mModuleNotFoundError\u001b[0m: No module named 'cv2'"
     ]
    }
   ],
   "source": [
    "from pylibCZIrw import czi as pyczi\n",
    "from pylibCZIrw.czi import ReaderFileInputTypes, CacheOptions, CacheType\n",
    "import numpy as np\n",
    "import os, sys\n",
    "import napari"
   ]
  },
  {
   "cell_type": "code",
   "execution_count": 2,
   "id": "b0d4936e-fe94-4f87-8d12-f9cddbbe6328",
   "metadata": {},
   "outputs": [],
   "source": [
    "czi_file = 'E:/HongLi/OIC-137_Colony_Forming_Analysis/Plate1-01_processed.czi'"
   ]
  },
  {
   "cell_type": "code",
   "execution_count": 3,
   "id": "9eae3909-33e9-4585-bf2d-af7c456a8f0c",
   "metadata": {},
   "outputs": [],
   "source": [
    "with pyczi.open_czi(czi_file, pyczi.ReaderFileInputTypes.Standard) as czidoc:\n",
    "    scene_00 = czidoc.read(scene=0)\n",
    "    scene_01 = czidoc.read(scene=1)"
   ]
  },
  {
   "cell_type": "code",
   "execution_count": 7,
   "id": "52b89f1e-5723-47fb-bdfe-50e6bf9a6dcc",
   "metadata": {},
   "outputs": [],
   "source": [
    "viewer = napari.view_image(scene_00, name='test')"
   ]
  },
  {
   "cell_type": "code",
   "execution_count": 4,
   "id": "2692a6a9-6874-42aa-a1c6-40c4d648492c",
   "metadata": {},
   "outputs": [],
   "source": [
    "gray_scene_00 = sk.color.rgb2gray(scene_00)"
   ]
  },
  {
   "cell_type": "code",
   "execution_count": 50,
   "id": "8f98556c-bb6a-4c9c-911f-73518c34fd75",
   "metadata": {},
   "outputs": [],
   "source": [
    "gray_scene_01 = sk.color.rgb2gray(scene_01)"
   ]
  },
  {
   "cell_type": "code",
   "execution_count": 51,
   "id": "1ff66aae-af06-4dde-9307-7b9d62fa92b7",
   "metadata": {},
   "outputs": [
    {
     "data": {
      "text/plain": [
       "(7496, 7576)"
      ]
     },
     "execution_count": 51,
     "metadata": {},
     "output_type": "execute_result"
    }
   ],
   "source": [
    "gray_scene_01.shape"
   ]
  },
  {
   "cell_type": "code",
   "execution_count": 6,
   "id": "64527900-751b-43ef-894d-d51953108af9",
   "metadata": {},
   "outputs": [],
   "source": [
    "scene_00_array = np.asarray(gray_scene_00)"
   ]
  },
  {
   "cell_type": "code",
   "execution_count": 18,
   "id": "7765c3bd-a15e-4f71-8093-718867eaa681",
   "metadata": {},
   "outputs": [],
   "source": [
    "#background_gaus = sk.util.invert(sk.filters.gaussian(gray_scene_00, sigma=int(gray_scene_00.shape[0]/3)))\n",
    "#background_corrected = gray_scene_00/background_gaus"
   ]
  },
  {
   "cell_type": "code",
   "execution_count": 19,
   "id": "c56acfc7-f5fa-47d5-8339-6d0a40067417",
   "metadata": {},
   "outputs": [
    {
     "data": {
      "text/plain": [
       "<Image layer 'background_corrected' at 0x197c53c8460>"
      ]
     },
     "execution_count": 19,
     "metadata": {},
     "output_type": "execute_result"
    }
   ],
   "source": [
    "viewer = napari.view_image(gray_scene_00, name='test')\n",
    "viewer.add_image(background_gaus, name='gaus')\n",
    "viewer.add_image(background_corrected, name='background_corrected')"
   ]
  },
  {
   "cell_type": "code",
   "execution_count": 42,
   "id": "035ebf94-00ed-4ef9-a36f-bd8f5a1a6b04",
   "metadata": {},
   "outputs": [
    {
     "data": {
      "text/plain": [
       "937.5"
      ]
     },
     "execution_count": 42,
     "metadata": {},
     "output_type": "execute_result"
    }
   ],
   "source": [
    "7500/8"
   ]
  },
  {
   "cell_type": "code",
   "execution_count": 54,
   "id": "c76ee46a-8ee5-4d42-8d22-56673a2576a4",
   "metadata": {},
   "outputs": [],
   "source": [
    "#small_gaus = sk.filters.gaussian(gray_scene_00, sigma=1)\n",
    "equalized_hist_00 = sk.exposure.equalize_adapthist(gray_scene_00,kernel_size=650)"
   ]
  },
  {
   "cell_type": "code",
   "execution_count": 55,
   "id": "3833872f-472d-443f-bf39-83ba764499e7",
   "metadata": {},
   "outputs": [],
   "source": [
    "equalized_hist_01 = sk.exposure.equalize_adapthist(gray_scene_01,kernel_size=650)"
   ]
  },
  {
   "cell_type": "code",
   "execution_count": 56,
   "id": "259f2b83-d2f7-4054-8d82-3ac043ac95c1",
   "metadata": {},
   "outputs": [],
   "source": [
    "white_top_00 = sk.morphology.white_tophat(equalized_hist_00)#terrible results"
   ]
  },
  {
   "cell_type": "code",
   "execution_count": 57,
   "id": "6113a2ce-405b-4e0f-80ce-2db1bca689a6",
   "metadata": {},
   "outputs": [
    {
     "data": {
      "text/plain": [
       "<Image layer 'top hat' at 0x197cf5e8910>"
      ]
     },
     "execution_count": 57,
     "metadata": {},
     "output_type": "execute_result"
    }
   ],
   "source": [
    "viewer.add_image(gray_scene_01, name='img')\n",
    "viewer.add_image(white_top_00, name='top hat')"
   ]
  },
  {
   "cell_type": "code",
   "execution_count": 34,
   "id": "64a476c7-3165-40c4-81bd-601c3bfd6f04",
   "metadata": {},
   "outputs": [],
   "source": [
    "#background_gaus = sk.util.invert(sk.filters.gaussian(gray_scene_00, sigma=int(gray_scene_00.shape[0]/5)))"
   ]
  },
  {
   "cell_type": "code",
   "execution_count": 35,
   "id": "4ded54d7-ad0d-4cd1-b3a3-1d3aac544438",
   "metadata": {},
   "outputs": [],
   "source": [
    "#blend = gray_scene_00 * 0.5 + background_gaus * 0.5"
   ]
  },
  {
   "cell_type": "code",
   "execution_count": 29,
   "id": "cec43023-75c4-4d80-801e-77ace312dc0d",
   "metadata": {},
   "outputs": [],
   "source": [
    "#equalized_hist = sk.exposure.equalize_adapthist(blend)"
   ]
  },
  {
   "cell_type": "code",
   "execution_count": null,
   "id": "c7cca2f3-8843-45d8-a0a4-797ddcad89ec",
   "metadata": {},
   "outputs": [],
   "source": []
  }
 ],
 "metadata": {
  "kernelspec": {
   "display_name": "CZI-imgs",
   "language": "python",
   "name": "czi-imgs"
  },
  "language_info": {
   "codemirror_mode": {
    "name": "ipython",
    "version": 3
   },
   "file_extension": ".py",
   "mimetype": "text/x-python",
   "name": "python",
   "nbconvert_exporter": "python",
   "pygments_lexer": "ipython3",
   "version": "3.10.16"
  }
 },
 "nbformat": 4,
 "nbformat_minor": 5
}
