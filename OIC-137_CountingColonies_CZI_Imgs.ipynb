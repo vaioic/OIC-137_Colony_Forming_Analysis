{
 "cells": [
  {
   "cell_type": "code",
   "execution_count": 1,
   "id": "95f965da-e396-47f5-a4aa-c0d28f7bd9c6",
   "metadata": {},
   "outputs": [],
   "source": [
    "from pylibCZIrw import czi as pyczi\n",
    "from pylibCZIrw.czi import ReaderFileInputTypes, CacheOptions, CacheType\n",
    "import numpy as np\n",
    "import os, sys\n",
    "import napari"
   ]
  },
  {
   "cell_type": "code",
   "execution_count": 10,
   "id": "b0d4936e-fe94-4f87-8d12-f9cddbbe6328",
   "metadata": {},
   "outputs": [],
   "source": [
    "czi_file = r'E:/HongLi/OIC-137_Colony_Forming_Analysis/Plate1-01_processed.czi'"
   ]
  },
  {
   "cell_type": "code",
   "execution_count": 11,
   "id": "9eae3909-33e9-4585-bf2d-af7c456a8f0c",
   "metadata": {},
   "outputs": [
    {
     "ename": "FileNotFoundError",
     "evalue": "E:/HongLi/OIC-137_Colony_Forming_Analysis/Plate1-01_processed.czi is not a valid URL.",
     "output_type": "error",
     "traceback": [
      "\u001b[1;31m---------------------------------------------------------------------------\u001b[0m",
      "\u001b[1;31mFileNotFoundError\u001b[0m                         Traceback (most recent call last)",
      "Cell \u001b[1;32mIn[11], line 1\u001b[0m\n\u001b[1;32m----> 1\u001b[0m \u001b[38;5;28;01mwith\u001b[39;00m pyczi\u001b[38;5;241m.\u001b[39mopen_czi(czi_file, pyczi\u001b[38;5;241m.\u001b[39mReaderFileInputTypes\u001b[38;5;241m.\u001b[39mCurl) \u001b[38;5;28;01mas\u001b[39;00m czidoc:\n\u001b[0;32m      2\u001b[0m     scene_00 \u001b[38;5;241m=\u001b[39m czidoc\u001b[38;5;241m.\u001b[39mread(scene\u001b[38;5;241m=\u001b[39m\u001b[38;5;241m0\u001b[39m)\n\u001b[0;32m      3\u001b[0m     scene_01 \u001b[38;5;241m=\u001b[39m czidoc\u001b[38;5;241m.\u001b[39mread(scene\u001b[38;5;241m=\u001b[39m\u001b[38;5;241m1\u001b[39m)\n",
      "File \u001b[1;32mC:\\ProgramData\\anaconda3\\envs\\CZI-env\\lib\\contextlib.py:135\u001b[0m, in \u001b[0;36m_GeneratorContextManager.__enter__\u001b[1;34m(self)\u001b[0m\n\u001b[0;32m    133\u001b[0m \u001b[38;5;28;01mdel\u001b[39;00m \u001b[38;5;28mself\u001b[39m\u001b[38;5;241m.\u001b[39margs, \u001b[38;5;28mself\u001b[39m\u001b[38;5;241m.\u001b[39mkwds, \u001b[38;5;28mself\u001b[39m\u001b[38;5;241m.\u001b[39mfunc\n\u001b[0;32m    134\u001b[0m \u001b[38;5;28;01mtry\u001b[39;00m:\n\u001b[1;32m--> 135\u001b[0m     \u001b[38;5;28;01mreturn\u001b[39;00m \u001b[38;5;28;43mnext\u001b[39;49m\u001b[43m(\u001b[49m\u001b[38;5;28;43mself\u001b[39;49m\u001b[38;5;241;43m.\u001b[39;49m\u001b[43mgen\u001b[49m\u001b[43m)\u001b[49m\n\u001b[0;32m    136\u001b[0m \u001b[38;5;28;01mexcept\u001b[39;00m \u001b[38;5;167;01mStopIteration\u001b[39;00m:\n\u001b[0;32m    137\u001b[0m     \u001b[38;5;28;01mraise\u001b[39;00m \u001b[38;5;167;01mRuntimeError\u001b[39;00m(\u001b[38;5;124m\"\u001b[39m\u001b[38;5;124mgenerator didn\u001b[39m\u001b[38;5;124m'\u001b[39m\u001b[38;5;124mt yield\u001b[39m\u001b[38;5;124m\"\u001b[39m) \u001b[38;5;28;01mfrom\u001b[39;00m\u001b[38;5;250m \u001b[39m\u001b[38;5;28;01mNone\u001b[39;00m\n",
      "File \u001b[1;32mC:\\ProgramData\\anaconda3\\envs\\CZI-env\\lib\\site-packages\\pylibCZIrw\\czi.py:1291\u001b[0m, in \u001b[0;36mopen_czi\u001b[1;34m(filepath, file_input_type, cache_options)\u001b[0m\n\u001b[0;32m   1268\u001b[0m \u001b[38;5;129m@contextlib\u001b[39m\u001b[38;5;241m.\u001b[39mcontextmanager\n\u001b[0;32m   1269\u001b[0m \u001b[38;5;28;01mdef\u001b[39;00m\u001b[38;5;250m \u001b[39m\u001b[38;5;21mopen_czi\u001b[39m(\n\u001b[0;32m   1270\u001b[0m     filepath: \u001b[38;5;28mstr\u001b[39m,\n\u001b[0;32m   1271\u001b[0m     file_input_type: ReaderFileInputTypes \u001b[38;5;241m=\u001b[39m ReaderFileInputTypes\u001b[38;5;241m.\u001b[39mStandard,\n\u001b[0;32m   1272\u001b[0m     cache_options: Optional[CacheOptions] \u001b[38;5;241m=\u001b[39m \u001b[38;5;28;01mNone\u001b[39;00m,\n\u001b[0;32m   1273\u001b[0m ) \u001b[38;5;241m-\u001b[39m\u001b[38;5;241m>\u001b[39m Generator:\n\u001b[0;32m   1274\u001b[0m \u001b[38;5;250m    \u001b[39m\u001b[38;5;124;03m\"\"\"Initialize a czi reader object and returns it.\u001b[39;00m\n\u001b[0;32m   1275\u001b[0m \u001b[38;5;124;03m    Opens the filepath and hands it over to the low-level function.\u001b[39;00m\n\u001b[0;32m   1276\u001b[0m \n\u001b[1;32m   (...)\u001b[0m\n\u001b[0;32m   1289\u001b[0m \u001b[38;5;124;03m        CziReader document as a czi object\u001b[39;00m\n\u001b[0;32m   1290\u001b[0m \u001b[38;5;124;03m    \"\"\"\u001b[39;00m\n\u001b[1;32m-> 1291\u001b[0m     reader \u001b[38;5;241m=\u001b[39m \u001b[43mCziReader\u001b[49m\u001b[43m(\u001b[49m\u001b[43mfilepath\u001b[49m\u001b[43m,\u001b[49m\u001b[43m \u001b[49m\u001b[43mfile_input_type\u001b[49m\u001b[43m,\u001b[49m\u001b[43m \u001b[49m\u001b[43mcache_options\u001b[49m\u001b[38;5;241;43m=\u001b[39;49m\u001b[43mcache_options\u001b[49m\u001b[43m)\u001b[49m\n\u001b[0;32m   1292\u001b[0m     \u001b[38;5;28;01mtry\u001b[39;00m:\n\u001b[0;32m   1293\u001b[0m         \u001b[38;5;28;01myield\u001b[39;00m reader\n",
      "File \u001b[1;32mC:\\ProgramData\\anaconda3\\envs\\CZI-env\\lib\\site-packages\\pylibCZIrw\\czi.py:176\u001b[0m, in \u001b[0;36mCziReader.__init__\u001b[1;34m(self, filepath, file_input_type, cache_options)\u001b[0m\n\u001b[0;32m    172\u001b[0m         \u001b[38;5;28mself\u001b[39m\u001b[38;5;241m.\u001b[39m_czi_reader \u001b[38;5;241m=\u001b[39m _pylibCZIrw\u001b[38;5;241m.\u001b[39mczi_reader(\n\u001b[0;32m    173\u001b[0m             ReaderFileInputTypes\u001b[38;5;241m.\u001b[39mCurl\u001b[38;5;241m.\u001b[39mvalue, filepath, libczi_cache_options\n\u001b[0;32m    174\u001b[0m         )\n\u001b[0;32m    175\u001b[0m     \u001b[38;5;28;01melse\u001b[39;00m:\n\u001b[1;32m--> 176\u001b[0m         \u001b[38;5;28;01mraise\u001b[39;00m \u001b[38;5;167;01mFileNotFoundError\u001b[39;00m(\u001b[38;5;124mf\u001b[39m\u001b[38;5;124m\"\u001b[39m\u001b[38;5;132;01m{\u001b[39;00mfilepath\u001b[38;5;132;01m}\u001b[39;00m\u001b[38;5;124m is not a valid URL.\u001b[39m\u001b[38;5;124m\"\u001b[39m)\n\u001b[0;32m    177\u001b[0m \u001b[38;5;28;01melse\u001b[39;00m:\n\u001b[0;32m    178\u001b[0m     \u001b[38;5;66;03m# When reading from disk we only cache compressed subblocks.\u001b[39;00m\n\u001b[0;32m    179\u001b[0m     libczi_cache_options\u001b[38;5;241m.\u001b[39mcacheOnlyCompressed \u001b[38;5;241m=\u001b[39m \u001b[38;5;28;01mTrue\u001b[39;00m\n",
      "\u001b[1;31mFileNotFoundError\u001b[0m: E:/HongLi/OIC-137_Colony_Forming_Analysis/Plate1-01_processed.czi is not a valid URL."
     ]
    }
   ],
   "source": [
    "with pyczi.open_czi(czi_file, pyczi.ReaderFileInputTypes.Curl) as czidoc:\n",
    "    scene_00 = czidoc.read(scene=0)\n",
    "    scene_01 = czidoc.read(scene=1)"
   ]
  },
  {
   "cell_type": "code",
   "execution_count": null,
   "id": "52b89f1e-5723-47fb-bdfe-50e6bf9a6dcc",
   "metadata": {},
   "outputs": [],
   "source": []
  }
 ],
 "metadata": {
  "kernelspec": {
   "display_name": "CZI-imgs",
   "language": "python",
   "name": "czi-imgs"
  },
  "language_info": {
   "codemirror_mode": {
    "name": "ipython",
    "version": 3
   },
   "file_extension": ".py",
   "mimetype": "text/x-python",
   "name": "python",
   "nbconvert_exporter": "python",
   "pygments_lexer": "ipython3",
   "version": "3.10.16"
  }
 },
 "nbformat": 4,
 "nbformat_minor": 5
}
