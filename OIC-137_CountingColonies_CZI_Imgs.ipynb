{
 "cells": [
  {
   "cell_type": "code",
   "execution_count": null,
   "id": "95f965da-e396-47f5-a4aa-c0d28f7bd9c6",
   "metadata": {},
   "outputs": [],
   "source": [
    "from pylibCZIrw import czi as pyczi\n",
    "from pylibCZIrw.czi import ReaderFileInputTypes, CacheOptions, CacheType\n",
    "import numpy as np\n",
    "import os, sys\n",
    "import napari\n",
    "import skimage as sk\n",
    "from tifffile import imwrite"
   ]
  },
  {
   "cell_type": "code",
   "execution_count": null,
   "id": "b0d4936e-fe94-4f87-8d12-f9cddbbe6328",
   "metadata": {},
   "outputs": [],
   "source": [
    "czi_file = 'E:/HongLi/OIC-137_Colony_Forming_Analysis/Plate1-01_processed.czi'"
   ]
  },
  {
   "cell_type": "code",
   "execution_count": null,
   "id": "9eae3909-33e9-4585-bf2d-af7c456a8f0c",
   "metadata": {},
   "outputs": [],
   "source": [
    "with pyczi.open_czi(czi_file, pyczi.ReaderFileInputTypes.Standard) as czidoc:\n",
    "    scene_00 = czidoc.read(scene=0)\n",
    "    scene_01 = czidoc.read(scene=1)"
   ]
  },
  {
   "cell_type": "code",
   "execution_count": null,
   "id": "52b89f1e-5723-47fb-bdfe-50e6bf9a6dcc",
   "metadata": {},
   "outputs": [],
   "source": [
    "viewer = napari.view_image(scene_00, name='test')"
   ]
  },
  {
   "cell_type": "code",
   "execution_count": null,
   "id": "2692a6a9-6874-42aa-a1c6-40c4d648492c",
   "metadata": {},
   "outputs": [],
   "source": [
    "gray_scene_00 = sk.color.rgb2gray(scene_00)"
   ]
  },
  {
   "cell_type": "code",
   "execution_count": null,
   "id": "8f98556c-bb6a-4c9c-911f-73518c34fd75",
   "metadata": {},
   "outputs": [],
   "source": [
    "gray_scene_01 = sk.color.rgb2gray(scene_01)"
   ]
  },
  {
   "cell_type": "code",
   "execution_count": null,
   "id": "1ff66aae-af06-4dde-9307-7b9d62fa92b7",
   "metadata": {},
   "outputs": [],
   "source": [
    "gray_scene_01.shape"
   ]
  },
  {
   "cell_type": "code",
   "execution_count": null,
   "id": "64527900-751b-43ef-894d-d51953108af9",
   "metadata": {},
   "outputs": [],
   "source": [
    "scene_00_array = np.asarray(gray_scene_00)"
   ]
  },
  {
   "cell_type": "code",
   "execution_count": null,
   "id": "7765c3bd-a15e-4f71-8093-718867eaa681",
   "metadata": {},
   "outputs": [],
   "source": [
    "#background_gaus = sk.util.invert(sk.filters.gaussian(gray_scene_00, sigma=int(gray_scene_00.shape[0]/3)))\n",
    "#background_corrected = gray_scene_00/background_gaus"
   ]
  },
  {
   "cell_type": "code",
   "execution_count": null,
   "id": "c56acfc7-f5fa-47d5-8339-6d0a40067417",
   "metadata": {},
   "outputs": [],
   "source": [
    "viewer = napari.view_image(gray_scene_00, name='test')\n",
    "viewer.add_image(background_gaus, name='gaus')\n",
    "viewer.add_image(background_corrected, name='background_corrected')"
   ]
  },
  {
   "cell_type": "code",
   "execution_count": null,
   "id": "035ebf94-00ed-4ef9-a36f-bd8f5a1a6b04",
   "metadata": {},
   "outputs": [],
   "source": [
    "7500/8"
   ]
  },
  {
   "cell_type": "code",
   "execution_count": null,
   "id": "c76ee46a-8ee5-4d42-8d22-56673a2576a4",
   "metadata": {},
   "outputs": [],
   "source": [
    "#small_gaus = sk.filters.gaussian(gray_scene_00, sigma=1)\n",
    "equalized_hist_00 = sk.exposure.equalize_adapthist(gray_scene_00,kernel_size=650)"
   ]
  },
  {
   "cell_type": "code",
   "execution_count": null,
   "id": "3833872f-472d-443f-bf39-83ba764499e7",
   "metadata": {},
   "outputs": [],
   "source": [
    "equalized_hist_01 = sk.exposure.equalize_adapthist(gray_scene_01,kernel_size=650)"
   ]
  },
  {
   "cell_type": "code",
   "execution_count": null,
   "id": "259f2b83-d2f7-4054-8d82-3ac043ac95c1",
   "metadata": {},
   "outputs": [],
   "source": [
    "white_top_00 = sk.morphology.white_tophat(equalized_hist_00)#terrible results"
   ]
  },
  {
   "cell_type": "code",
   "execution_count": null,
   "id": "ea665f9d-31b3-4613-bb14-993a1a7c6f2e",
   "metadata": {},
   "outputs": [],
   "source": [
    "#test writing out image\n",
    "new_img = os.path.join(os.getcwd(),'Test_Save','scene_00.tif')"
   ]
  },
  {
   "cell_type": "code",
   "execution_count": null,
   "id": "d8b02052-2883-44b4-93d3-ce3a6ff891d9",
   "metadata": {},
   "outputs": [],
   "source": [
    "imwrite(new_img, equalized_hist_00, \n",
    "        photometric='minisblack',\n",
    "        metadata={'axes': 'YXC', 'spacing': 1.035, 'unit':'um'})"
   ]
  },
  {
   "cell_type": "code",
   "execution_count": null,
   "id": "64a476c7-3165-40c4-81bd-601c3bfd6f04",
   "metadata": {},
   "outputs": [],
   "source": [
    "#background_gaus = sk.util.invert(sk.filters.gaussian(gray_scene_00, sigma=int(gray_scene_00.shape[0]/5)))"
   ]
  },
  {
   "cell_type": "code",
   "execution_count": null,
   "id": "4ded54d7-ad0d-4cd1-b3a3-1d3aac544438",
   "metadata": {},
   "outputs": [],
   "source": [
    "#blend = gray_scene_00 * 0.5 + background_gaus * 0.5"
   ]
  },
  {
   "cell_type": "code",
   "execution_count": null,
   "id": "cec43023-75c4-4d80-801e-77ace312dc0d",
   "metadata": {},
   "outputs": [],
   "source": [
    "#equalized_hist = sk.exposure.equalize_adapthist(blend)"
   ]
  },
  {
   "cell_type": "code",
   "execution_count": null,
   "id": "c7cca2f3-8843-45d8-a0a4-797ddcad89ec",
   "metadata": {},
   "outputs": [],
   "source": []
  }
 ],
 "metadata": {
  "kernelspec": {
   "display_name": "CZI-imgs",
   "language": "python",
   "name": "czi-imgs"
  },
  "language_info": {
   "codemirror_mode": {
    "name": "ipython",
    "version": 3
   },
   "file_extension": ".py",
   "mimetype": "text/x-python",
   "name": "python",
   "nbconvert_exporter": "python",
   "pygments_lexer": "ipython3",
   "version": "3.10.16"
  }
 },
 "nbformat": 4,
 "nbformat_minor": 5
}
