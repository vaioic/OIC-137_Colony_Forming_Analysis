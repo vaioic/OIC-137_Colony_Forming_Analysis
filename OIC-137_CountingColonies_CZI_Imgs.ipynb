{
 "cells": [
  {
   "cell_type": "code",
   "execution_count": 1,
   "id": "95f965da-e396-47f5-a4aa-c0d28f7bd9c6",
   "metadata": {},
   "outputs": [],
   "source": [
    "from pylibCZIrw import czi as pyczi\n",
    "from pylibCZIrw.czi import ReaderFileInputTypes, CacheOptions, CacheType\n",
    "import numpy as np\n",
    "import os, sys\n",
    "import napari\n",
    "import skimage as sk"
   ]
  },
  {
   "cell_type": "code",
   "execution_count": 2,
   "id": "b0d4936e-fe94-4f87-8d12-f9cddbbe6328",
   "metadata": {},
   "outputs": [],
   "source": [
    "czi_file = 'E:/HongLi/OIC-137_Colony_Forming_Analysis/Plate1-01_processed.czi'"
   ]
  },
  {
   "cell_type": "code",
   "execution_count": 3,
   "id": "9eae3909-33e9-4585-bf2d-af7c456a8f0c",
   "metadata": {},
   "outputs": [],
   "source": [
    "with pyczi.open_czi(czi_file, pyczi.ReaderFileInputTypes.Standard) as czidoc:\n",
    "    scene_00 = czidoc.read(scene=0)\n",
    "    scene_01 = czidoc.read(scene=1)"
   ]
  },
  {
   "cell_type": "code",
   "execution_count": 7,
   "id": "52b89f1e-5723-47fb-bdfe-50e6bf9a6dcc",
   "metadata": {},
   "outputs": [],
   "source": [
    "viewer = napari.view_image(scene_00, name='test')"
   ]
  },
  {
   "cell_type": "code",
   "execution_count": 4,
   "id": "2692a6a9-6874-42aa-a1c6-40c4d648492c",
   "metadata": {},
   "outputs": [],
   "source": [
    "gray_scene_00 = sk.color.rgb2gray(scene_00)"
   ]
  },
  {
   "cell_type": "code",
   "execution_count": 5,
   "id": "1ff66aae-af06-4dde-9307-7b9d62fa92b7",
   "metadata": {},
   "outputs": [
    {
     "data": {
      "text/plain": [
       "dtype('float64')"
      ]
     },
     "execution_count": 5,
     "metadata": {},
     "output_type": "execute_result"
    }
   ],
   "source": [
    "gray_scene_00.dtype"
   ]
  },
  {
   "cell_type": "code",
   "execution_count": 6,
   "id": "64527900-751b-43ef-894d-d51953108af9",
   "metadata": {},
   "outputs": [],
   "source": [
    "scene_00_array = np.asarray(gray_scene_00)"
   ]
  },
  {
   "cell_type": "code",
   "execution_count": 7,
   "id": "7765c3bd-a15e-4f71-8093-718867eaa681",
   "metadata": {},
   "outputs": [],
   "source": [
    "background_gaus = sk.filters.gaussian(scene_00_array, sigma=int(gray_scene_00.shape[0]/3))\n",
    "background_corrected = gray_scene_00 - background_gaus"
   ]
  },
  {
   "cell_type": "code",
   "execution_count": 8,
   "id": "c56acfc7-f5fa-47d5-8339-6d0a40067417",
   "metadata": {},
   "outputs": [
    {
     "data": {
      "text/plain": [
       "<Image layer 'background_corrected' at 0x19755d0ae00>"
      ]
     },
     "execution_count": 8,
     "metadata": {},
     "output_type": "execute_result"
    }
   ],
   "source": [
    "viewer = napari.view_image(gray_scene_00, name='test')\n",
    "viewer.add_image(background_gaus, name='gaus')\n",
    "viewer.add_image(background_corrected, name='background_corrected')"
   ]
  },
  {
   "cell_type": "code",
   "execution_count": 9,
   "id": "c76ee46a-8ee5-4d42-8d22-56673a2576a4",
   "metadata": {},
   "outputs": [],
   "source": [
    "equalized_hist = sk.exposure.equalize_adapthist(gray_scene_00)"
   ]
  },
  {
   "cell_type": "code",
   "execution_count": null,
   "id": "6113a2ce-405b-4e0f-80ce-2db1bca689a6",
   "metadata": {},
   "outputs": [],
   "source": [
    "viewer = napari."
   ]
  }
 ],
 "metadata": {
  "kernelspec": {
   "display_name": "CZI-imgs",
   "language": "python",
   "name": "czi-imgs"
  },
  "language_info": {
   "codemirror_mode": {
    "name": "ipython",
    "version": 3
   },
   "file_extension": ".py",
   "mimetype": "text/x-python",
   "name": "python",
   "nbconvert_exporter": "python",
   "pygments_lexer": "ipython3",
   "version": "3.10.16"
  }
 },
 "nbformat": 4,
 "nbformat_minor": 5
}
